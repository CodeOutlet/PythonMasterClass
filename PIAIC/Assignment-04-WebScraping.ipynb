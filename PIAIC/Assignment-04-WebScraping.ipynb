{
 "cells": [
  {
   "cell_type": "code",
   "execution_count": 31,
   "metadata": {},
   "outputs": [],
   "source": [
    "import requests\n",
    "from bs4 import BeautifulSoup"
   ]
  },
  {
   "cell_type": "code",
   "execution_count": 32,
   "metadata": {},
   "outputs": [
    {
     "data": {
      "text/plain": [
       "requests.models.Response"
      ]
     },
     "execution_count": 32,
     "metadata": {},
     "output_type": "execute_result"
    }
   ],
   "source": [
    "r=requests.get(\"https://www.whatmobile.com.pk/\")\n",
    "type(r)"
   ]
  },
  {
   "cell_type": "code",
   "execution_count": 145,
   "metadata": {},
   "outputs": [],
   "source": [
    "c=r.content\n"
   ]
  },
  {
   "cell_type": "code",
   "execution_count": null,
   "metadata": {},
   "outputs": [],
   "source": []
  },
  {
   "cell_type": "code",
   "execution_count": 146,
   "metadata": {},
   "outputs": [],
   "source": [
    "soup=BeautifulSoup(c,\"html.parser\")\n",
    "#print(soup.prettify())"
   ]
  },
  {
   "cell_type": "code",
   "execution_count": 147,
   "metadata": {},
   "outputs": [],
   "source": [
    "productList=soup.find_all(\"ul\",{\"class\",\"product-list\"})\n",
    "#productList"
   ]
  },
  {
   "cell_type": "code",
   "execution_count": 92,
   "metadata": {},
   "outputs": [
    {
     "data": {
      "text/plain": [
       "'Samsung'"
      ]
     },
     "execution_count": 92,
     "metadata": {},
     "output_type": "execute_result"
    }
   ],
   "source": [
    "productList[0].find_all(class_=\"BiggerText\",)[1].get_text(separator=\"#\").split(\"#\")[0].replace('\\n', ' ').strip()"
   ]
  },
  {
   "cell_type": "code",
   "execution_count": 120,
   "metadata": {},
   "outputs": [],
   "source": [
    "for item in productList:\n",
    "    product=item.find_all(\"li\",{\"class\",\"product\"})\n",
    "   \n",
    "    for childitem in product:\n",
    "        listItem=childitem.find_all(class_=\"BiggerText\",)\n",
    "        itemPrice=childitem.find_all(class_=\"PriceFont\",)[0].get_text().replace('Rs.', ' ').strip()\n",
    "        for lst in listItem:\n",
    "            lst\n",
    "            #print(lst.get_text(separator=\"#\").split(\"#\")[0].replace('\\n', ' ').strip())\n",
    "            #print(\"\\t\")\n",
    "            #print(lst.get_text(separator=\" \").replace('\\n', ' ').strip())\n",
    "            #print(\"\\t\")\n",
    "            #print(itemPrice)\n",
    "            "
   ]
  },
  {
   "cell_type": "code",
   "execution_count": 77,
   "metadata": {},
   "outputs": [
    {
     "data": {
      "text/plain": [
       "'Oppo Reno 10X Zoom'"
      ]
     },
     "execution_count": 77,
     "metadata": {},
     "output_type": "execute_result"
    }
   ],
   "source": [
    "all[0].find_all(class_=\"BiggerText\",)[0].get_text(separator=\" \").replace('\\n', ' ').strip()"
   ]
  },
  {
   "cell_type": "code",
   "execution_count": 81,
   "metadata": {},
   "outputs": [
    {
     "data": {
      "text/plain": [
       "'109,999'"
      ]
     },
     "execution_count": 81,
     "metadata": {},
     "output_type": "execute_result"
    }
   ],
   "source": [
    "all[0].find_all(class_=\"PriceFont\",)[0].get_text().replace('Rs.', ' ').strip()"
   ]
  },
  {
   "cell_type": "code",
   "execution_count": 159,
   "metadata": {},
   "outputs": [
    {
     "name": "stdout",
     "output_type": "stream",
     "text": [
      "vendor\t\t|Product\t\t\t|Price\n",
      "----------------------------------------------------------\n",
      "Oppo\t\t|Oppo Reno 10X Zoom\t\t|109,999\n",
      "Samsung\t\t|Samsung Galaxy A70\t\t|67,999\n",
      "Realme\t\t|Realme 3 Pro\t\t|35,499\n",
      "Huawei\t\t|Huawei Y9 Prime 2019\t\t|33,999\n",
      "Vivo\t\t|Vivo Y15\t\t|29,999\n",
      "Honor\t\t|Honor 8S\t\t|18,999\n",
      "Oppo\t\t|Oppo Reno\t\t|69,999\n",
      "Samsung\t\t|Samsung Galaxy S10 Plus 512GB\t\t|219,999\n",
      "Vivo\t\t|Vivo V15 Pro\t\t|59,999\n",
      "Oppo\t\t|Oppo F11 Pro\t\t|54,999\n",
      "Samsung\t\t|Samsung Galaxy A50\t\t|54,999\n",
      "Huawei\t\t|Huawei P30 Pro\t\t|174,999\n",
      "Oppo\t\t|Oppo F11 Pro 64GB\t\t|45,999\n",
      "Vivo\t\t|Vivo V15\t\t|45,999\n",
      "Realme\t\t|Realme 2 Pro\t\t|46,999\n",
      "Samsung\t\t|Samsung Galaxy A30\t\t|40,999\n",
      "Oppo\t\t|Oppo Realme 2 Pro\t\t|46,999\n",
      "Vivo\t\t|Vivo V11\t\t|43,999\n",
      "Realme\t\t|Realme 3 Pro 6GB\t\t|39,999\n",
      "Vivo\t\t|Vivo Y17\t\t|36,999\n",
      "Honor\t\t|Honor 7X 4GB\t\t|31,999\n",
      "Huawei\t\t|Huawei P30 Lite\t\t|39,999\n",
      "Oppo\t\t|Oppo F11\t\t|39,999\n",
      "Samsung\t\t|Samsung Galaxy A20\t\t|31,499\n",
      "Nokia\t\t|Nokia 3.2 32GB\t\t|25,500\n",
      "Infinix\t\t|Infinix S4\t\t|22,999\n",
      "Oppo\t\t|Oppo A5s 4GB\t\t|29,999\n",
      "Realme\t\t|Realme C2\t\t|20,999\n",
      "Realme\t\t|Realme 3 4GB\t\t|24,999\n",
      "Tecno\t\t|Tecno Camon i4 4GB\t\t|25,999\n",
      "Infinix\t\t|Infinix Smart 3\t\t|15,700\n",
      "Infinix\t\t|Infinix Hot 7 Pro\t\t|19,999\n",
      "Nokia\t\t|Nokia 2.2\t\t|18,699\n",
      "Infinix\t\t|Infinix Hot 6 Pro 3GB\t\t|18,999\n",
      "Tecno\t\t|Tecno Camon iSky 3\t\t|17,999\n",
      "Infinix\t\t|Infinix Smart 3 Plus\t\t|16,999\n",
      "Qmobile\t\t|Qmobile QSmart LT200\t\t|7,999\n",
      "Tecno\t\t|Tecno Pop 2\t\t|9,499\n",
      "Qmobile\t\t|Qmobile i8i 2019\t\t|7,499\n",
      "Qmobile\t\t|Qmobile i5i 2019\t\t|7,749\n",
      "Qmobile\t\t|Qmobile QSmart LT950\t\t|7,800\n",
      "Qmobile\t\t|Qmobile QSmart LT900\t\t|8,999\n",
      "Honor\t\t|Honor 9X\t\t|Expected Price   41,999\n",
      "Realme\t\t|Realme X\t\t|Expected Price   39,999\n",
      "Honor\t\t|Honor 20 Lite\t\t|Expected Price   39,999\n",
      "Honor\t\t|Honor 20 Pro\t\t|Expected Price   69,999\n",
      "Vivo\t\t|Vivo S1\t\t|Expected Price   39,999\n",
      "Samsung\t\t|Samsung Galaxy Note 10\t\t|Expected Price   169,999\n"
     ]
    },
    {
     "data": {
      "text/plain": [
       "True"
      ]
     },
     "execution_count": 159,
     "metadata": {},
     "output_type": "execute_result"
    }
   ],
   "source": [
    "import csv\n",
    "\n",
    "with open('whatmobileData.csv', 'w',newline=\"\") as f:\n",
    "    data_handler=csv.writer(f)    \n",
    "    data_handler.writerow([\"Vendor\", \"Product\",\"Price\"])\n",
    "    print(\"vendor\"+\"\\t\\t|\"+\"Product\"+\"\\t\\t\\t|\"+\"Price\")\n",
    "    print(\"----------------------------------------------------------\")\n",
    "    \n",
    "    for item in productList:\n",
    "        product=item.find_all(\"li\",{\"class\",\"product\"})\n",
    "        \n",
    "        for childitem in product:\n",
    "            listItem=childitem.find_all(class_=\"BiggerText\",)\n",
    "            itemPrice=childitem.find_all(class_=\"PriceFont\",)[0].get_text().replace('Rs.', ' ').strip()\n",
    "            \n",
    "            for lst in listItem:\n",
    "                vendor=lst.get_text(separator=\"#\").split(\"#\")[0].replace('\\n', ' ').strip()\n",
    "                prod=lst.get_text(separator=\" \").replace('\\n', ' ').strip()\n",
    "                price=itemPrice\n",
    "                print(vendor+\"\\t\\t|\"+prod+\"\\t\\t|\"+price)\n",
    "                data_handler.writerow([vendor, prod, price])\n",
    "                \n",
    "f.closed\n",
    "            "
   ]
  }
 ],
 "metadata": {
  "kernelspec": {
   "display_name": "Python 3",
   "language": "python",
   "name": "python3"
  },
  "language_info": {
   "codemirror_mode": {
    "name": "ipython",
    "version": 3
   },
   "file_extension": ".py",
   "mimetype": "text/x-python",
   "name": "python",
   "nbconvert_exporter": "python",
   "pygments_lexer": "ipython3",
   "version": "3.7.3"
  }
 },
 "nbformat": 4,
 "nbformat_minor": 2
}
