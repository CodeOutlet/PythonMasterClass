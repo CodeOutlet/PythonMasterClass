{
 "cells": [
  {
   "cell_type": "raw",
   "metadata": {},
   "source": [
    "Assignment-02-MarkSheet\n",
    "Learned: Lists, ForLoop, Array, File"
   ]
  },
  {
   "cell_type": "code",
   "execution_count": 28,
   "metadata": {},
   "outputs": [
    {
     "name": "stdout",
     "output_type": "stream",
     "text": [
      "Enter Marks :Mathmatics 66\n",
      "Enter Marks :Physics 77\n",
      "Enter Marks :English 88\n",
      "Enter Marks :Programming 55\n",
      "\t \t**************** MARKSHEET ****************\n",
      "\t \t===========================================\n",
      "\t\t||\t SUBJECT \t ||\t MARKS \t ||\n",
      "\t \t===========================================\n",
      "\t\t||\t Mathmatics \t || \t66\t ||\n",
      "\t\t||\t Physics \t || \t77\t ||\n",
      "\t\t||\t English \t || \t88\t ||\n",
      "\t\t||\t Programming \t || \t55\t ||\n",
      "\t \t===========================================\n",
      "\t\t||\t TOTAL \t\t ||\t 286 \t ||\n",
      "\t \t===========================================\n"
     ]
    }
   ],
   "source": [
    "subjects = [\"Mathmatics\", \"Physics\", \"English\", \"Programming\"]\n",
    "marks=[]\n",
    "dataHeading=\"\"\n",
    "dataMarks=\"\"\n",
    "dataFooter=\"\"\n",
    "count=0\n",
    "total=0\n",
    "for sub in subjects:\n",
    "    marks.append(input(\"Enter Marks :\"+sub +\" \"))\n",
    "    \n",
    "#print(len(marks))\n",
    "\n",
    "dataHeading+= \"\\t \\t**************** MARKSHEET ****************\\n\"\n",
    "dataHeading+= \"\\t \\t===========================================\"\n",
    "dataHeading+= \"\\n\\t\\t||\\t SUBJECT \\t ||\" + \"\\t MARKS \\t ||\\n\"\n",
    "dataHeading+= \"\\t \\t===========================================\"\n",
    "    \n",
    "\n",
    "# printing the list using loop \n",
    "for x in range(len(marks)): \n",
    "    dataMarks+= \"\\n\\t\\t||\\t \"+subjects[count]+\" \\t || \\t\"+marks[x]+\"\\t ||\"\n",
    "    count=count+1\n",
    "    total=total+int(marks[x])\n",
    "\n",
    "dataFooter+= \"\\n\\t \\t===========================================\"\n",
    "dataFooter+= \"\\n\\t\\t||\\t TOTAL \\t\\t ||\" + \"\\t \"+str(total)+\" \\t ||\\n\"\n",
    "dataFooter+= \"\\t \\t===========================================\"\n",
    "\n",
    "print(dataHeading+dataMarks+dataFooter)\n",
    "    \n",
    "f= open(\"MarksSheet.txt\",\"w+\")\n",
    "f.write(dataHeading+dataMarks+dataFooter)\n",
    "f.close()"
   ]
  },
  {
   "cell_type": "code",
   "execution_count": null,
   "metadata": {},
   "outputs": [],
   "source": []
  },
  {
   "cell_type": "code",
   "execution_count": null,
   "metadata": {},
   "outputs": [],
   "source": []
  },
  {
   "cell_type": "code",
   "execution_count": null,
   "metadata": {},
   "outputs": [],
   "source": []
  }
 ],
 "metadata": {
  "kernelspec": {
   "display_name": "Python 3",
   "language": "python",
   "name": "python3"
  },
  "language_info": {
   "codemirror_mode": {
    "name": "ipython",
    "version": 3
   },
   "file_extension": ".py",
   "mimetype": "text/x-python",
   "name": "python",
   "nbconvert_exporter": "python",
   "pygments_lexer": "ipython3",
   "version": "3.7.3"
  }
 },
 "nbformat": 4,
 "nbformat_minor": 2
}
