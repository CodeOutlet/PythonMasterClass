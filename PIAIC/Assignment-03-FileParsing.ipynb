{
 "cells": [
  {
   "cell_type": "code",
   "execution_count": 52,
   "metadata": {},
   "outputs": [
    {
     "name": "stdout",
     "output_type": "stream",
     "text": [
      "Words Count:  54321\n",
      "Lines Count:  4822\n",
      "Tabs Count:  35\n",
      "Spaces Count:  54320\n",
      "Spaces Paragraphs:  30\n"
     ]
    }
   ],
   "source": [
    "def count_words(text):\n",
    "    words = text.split(' ')\n",
    "    return len(words)\n",
    "\n",
    "def count_lines(text):\n",
    "    lines = text.split('\\n')\n",
    "    return len(lines)\n",
    "\n",
    "def count_tabs(text):\n",
    "    tabs = text.split('\\t')\n",
    "    return len(tabs)\n",
    "\n",
    "def count_spaces(text):\n",
    "    spaces = text.count(' ')\n",
    "    return spaces\n",
    "\n",
    "def count_paragraphs(text):\n",
    "        paragraphs = text.count('   ')        \n",
    "        return paragraphs\n",
    "\n",
    "\n",
    "with open(\"sample_text_file5.txt\",\"r\") as file:\n",
    "    text=file.read()\n",
    "    \n",
    "print(\"Words Count: \",count_words(text))\n",
    "print(\"Lines Count: \",count_lines(text))\n",
    "print(\"Tabs Count: \",count_tabs(text))\n",
    "print(\"Spaces Count: \",count_spaces(text))\n",
    "print(\"Spaces Paragraphs: \",count_paragraphs(text))\n",
    "\n",
    "#print(text)"
   ]
  },
  {
   "cell_type": "code",
   "execution_count": null,
   "metadata": {},
   "outputs": [],
   "source": []
  },
  {
   "cell_type": "code",
   "execution_count": null,
   "metadata": {},
   "outputs": [],
   "source": []
  },
  {
   "cell_type": "code",
   "execution_count": null,
   "metadata": {},
   "outputs": [],
   "source": []
  },
  {
   "cell_type": "code",
   "execution_count": null,
   "metadata": {},
   "outputs": [],
   "source": []
  }
 ],
 "metadata": {
  "kernelspec": {
   "display_name": "Python 3",
   "language": "python",
   "name": "python3"
  },
  "language_info": {
   "codemirror_mode": {
    "name": "ipython",
    "version": 3
   },
   "file_extension": ".py",
   "mimetype": "text/x-python",
   "name": "python",
   "nbconvert_exporter": "python",
   "pygments_lexer": "ipython3",
   "version": "3.7.3"
  }
 },
 "nbformat": 4,
 "nbformat_minor": 2
}
