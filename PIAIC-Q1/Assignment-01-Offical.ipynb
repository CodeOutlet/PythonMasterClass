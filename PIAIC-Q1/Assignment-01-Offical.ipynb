{
 "cells": [
  {
   "cell_type": "code",
   "execution_count": 2,
   "metadata": {},
   "outputs": [
    {
     "name": "stdout",
     "output_type": "stream",
     "text": [
      "Enter the radius of circle :0.5\n",
      "0.7855\n"
     ]
    }
   ],
   "source": [
    "#1. Calculate Area of a Circle\n",
    "radius=float(input(\"Enter the radius of circle :\"))\n",
    "area=3.142*(radius*radius)\n",
    "print(area)"
   ]
  },
  {
   "cell_type": "code",
   "execution_count": 3,
   "metadata": {},
   "outputs": [
    {
     "name": "stdout",
     "output_type": "stream",
     "text": [
      "Enter the number: 5\n",
      "Positive Number Entered\n"
     ]
    }
   ],
   "source": [
    "#2. Check Number either positive, negative or zero\n",
    "number=int(input(\"Enter the number: \"))\n",
    "if number < 0:\n",
    "    print(\"Negative Number Entered\")\n",
    "elif number > 0:\n",
    "    print(\"Positive Number Entered\")\n",
    "elif number == 0:\n",
    "    print(\"Zero Entered\")\n",
    "\n"
   ]
  },
  {
   "cell_type": "code",
   "execution_count": 4,
   "metadata": {},
   "outputs": [
    {
     "name": "stdout",
     "output_type": "stream",
     "text": [
      "Enter Numerator: 4\n",
      "Enter Denominator: 5\n",
      "Number 4 is not Completely divisible by 5\n"
     ]
    }
   ],
   "source": [
    "#3. Divisibility Check of two numbers\n",
    "number=int(input(\"Enter Numerator: \"))\n",
    "denominator=int(input(\"Enter Denominator: \"))\n",
    "reminder=number % denominator\n",
    "\n",
    "if reminder == 0:\n",
    "    print(\"Number \"+str(number)+\" is Completely divisible by \"+str(denominator))\n",
    "else:\n",
    "    print(\"Number \"+str(number)+\" is not Completely divisible by \"+ str(denominator))\n",
    "\n"
   ]
  },
  {
   "cell_type": "code",
   "execution_count": 27,
   "metadata": {},
   "outputs": [
    {
     "name": "stdout",
     "output_type": "stream",
     "text": [
      "Enter a date in (dd/mm/yy) format: 1/1/2019\n",
      "Enter a date in (dd/mm/yy) format: 5/1/2019\n",
      "Days: 4\n"
     ]
    }
   ],
   "source": [
    "#4. Days Calculator\n",
    "import datetime\n",
    "from datetime import date\n",
    "datetimeFormat = '%d/%m/%Y'\n",
    "startDate=input(\"Enter a date in (dd/mm/yy) format: \")\n",
    "endDate=input(\"Enter a date in (dd/mm/yy) format: \")\n",
    "\n",
    "diff = datetime.datetime.strptime(endDate, datetimeFormat)- datetime.datetime.strptime(startDate, datetimeFormat)\n",
    " \n",
    "print(\"Days:\", diff.days)\n"
   ]
  },
  {
   "cell_type": "code",
   "execution_count": 7,
   "metadata": {},
   "outputs": [
    {
     "name": "stdout",
     "output_type": "stream",
     "text": [
      "Enter the radius of sphere: 5\n",
      "Volume of the Sphere with Radius 5.0 is 523.6666666666666\n"
     ]
    }
   ],
   "source": [
    "#5. Calculate Volume of a sphere\n",
    "radius=float(input(\"Enter the radius of sphere: \"))\n",
    "volume=(4/3)*3.142*(radius)**3\n",
    "print(\"Volume of the Sphere with Radius \"+str(radius)+\" is \"+ str(volume))"
   ]
  },
  {
   "cell_type": "code",
   "execution_count": 8,
   "metadata": {},
   "outputs": [
    {
     "name": "stdout",
     "output_type": "stream",
     "text": [
      "Enter String :Pakistan\n",
      "How many copies of String you need: 3\n",
      "PakistanPakistanPakistan\n"
     ]
    }
   ],
   "source": [
    "#6. Copy string n times\n",
    "str=input(\"Enter String :\")\n",
    "number=int(input(\"How many copies of String you need: \"))\n",
    "print(str*number)"
   ]
  },
  {
   "cell_type": "code",
   "execution_count": 9,
   "metadata": {},
   "outputs": [
    {
     "name": "stdout",
     "output_type": "stream",
     "text": [
      "Enter the number: 3\n",
      "It is an Odd Number\n"
     ]
    }
   ],
   "source": [
    "#7. Check if number is Even or Odd\n",
    "number=int(input(\"Enter the number: \"))\n",
    "if number%2==0:\n",
    "    print(\"It is an Even Number\")\n",
    "else:\n",
    "    print(\"It is an Odd Number\")"
   ]
  },
  {
   "cell_type": "code",
   "execution_count": 13,
   "metadata": {},
   "outputs": [
    {
     "name": "stdout",
     "output_type": "stream",
     "text": [
      "Enter the alphabet , Only in lower case: a\n",
      "Vowel\n"
     ]
    }
   ],
   "source": [
    "#8. Vowel Tester\n",
    "vowel=['a','e','i','o','u']\n",
    "alpha=input(\"Enter the alphabet , Only in lower case: \")\n",
    "for b in vowel:\n",
    "    if alpha==b:\n",
    "        print('Vowel')\n",
    "    else:\n",
    "        print('Not vowel')\n",
    "    break"
   ]
  },
  {
   "cell_type": "code",
   "execution_count": 14,
   "metadata": {},
   "outputs": [
    {
     "name": "stdout",
     "output_type": "stream",
     "text": [
      "Enter magnitude of Triangle base: 2\n",
      "Enter Magnitude of Triangle Height: 3\n",
      "3.0\n"
     ]
    }
   ],
   "source": [
    "#9. Triangle area\n",
    "x=int(input(\"Enter magnitude of Triangle base: \"))\n",
    "y=int(input(\"Enter Magnitude of Triangle Height: \"))\n",
    "area=(1/2)*(x)*(y)\n",
    "print(area)"
   ]
  },
  {
   "cell_type": "code",
   "execution_count": 15,
   "metadata": {},
   "outputs": [
    {
     "name": "stdout",
     "output_type": "stream",
     "text": [
      "Please enter principal amount: 10000\n",
      "Please Enter Rate of interest in %: 5\n",
      "Enter number of years for investment 5\n",
      "12500.0\n"
     ]
    }
   ],
   "source": [
    "#10. Calculate Interest\n",
    "principle=int(input('Please enter principal amount: '))\n",
    "r=float(input('Please Enter Rate of interest in %: '))\n",
    "t=int(input('Enter number of years for investment '))\n",
    "interest=principle*t*(r/100)\n",
    "final=interest+principle\n",
    "print(final)"
   ]
  },
  {
   "cell_type": "code",
   "execution_count": 16,
   "metadata": {},
   "outputs": [
    {
     "name": "stdout",
     "output_type": "stream",
     "text": [
      "Enter x1: 2\n",
      "Enter x2: 3\n",
      "Enter y1: 4\n",
      "Enter y2: 5\n",
      "1.4142135623730951\n"
     ]
    }
   ],
   "source": [
    "#11. Euclidean distance\n",
    "import math\n",
    "x1=int(input(\"Enter x1: \"))\n",
    "x2=int(input('Enter x2: '))\n",
    "y1=int(input('Enter y1: '))\n",
    "y2=int(input('Enter y2: '))\n",
    "distance1=((x2-x1)**2)+((y2-y1)**2)\n",
    "distance=math.sqrt(distance1)\n",
    "print(distance)"
   ]
  },
  {
   "cell_type": "code",
   "execution_count": 17,
   "metadata": {},
   "outputs": [
    {
     "name": "stdout",
     "output_type": "stream",
     "text": [
      "Enter Height in Feet: 5\n",
      "height in centimeter is 152.5\n"
     ]
    }
   ],
   "source": [
    "#12. Feet to Centimeter Converter\n",
    "feet=float(input(\"Enter Height in Feet: \"))\n",
    "cm=feet*30.5\n",
    "print('height in centimeter is',cm)"
   ]
  },
  {
   "cell_type": "code",
   "execution_count": 18,
   "metadata": {},
   "outputs": [
    {
     "name": "stdout",
     "output_type": "stream",
     "text": [
      "Enter Height in Cm:5\n",
      "Enter Weight in Kg:3\n",
      "The BMI is  0.5555555555555556\n"
     ]
    }
   ],
   "source": [
    "#13. BMI Calculator\n",
    "weight=float(input(\"Enter Height in Cm:\"))\n",
    "height=float(input(\"Enter Weight in Kg:\"))\n",
    "height1 = math.sqrt(height)\n",
    "height2= height1/100\n",
    "bmi=(weight/(height*height))\n",
    "     \n",
    "print('The BMI is ',bmi)\n",
    "     "
   ]
  },
  {
   "cell_type": "code",
   "execution_count": 25,
   "metadata": {},
   "outputs": [
    {
     "name": "stdout",
     "output_type": "stream",
     "text": [
      "Enter the integer Value 6\n",
      "sum is  21.0\n"
     ]
    }
   ],
   "source": [
    "#14. Sum of n Positive Integers\n",
    "n=int(input('Enter the integer Value '))\n",
    "total=(n/2)*(2+(n-1))\n",
    "print(\"sum is \",total)"
   ]
  },
  {
   "cell_type": "code",
   "execution_count": 24,
   "metadata": {},
   "outputs": [
    {
     "name": "stdout",
     "output_type": "stream",
     "text": [
      "Enter a number: 12345\n",
      "Sum of the digits of Given Number = 15\n"
     ]
    }
   ],
   "source": [
    "#15. Digits Sum of a Number\n",
    "number = int(input(\"Enter a number: \"))\n",
    "sum = 0\n",
    "\n",
    "while(number > 0):\n",
    "    Reminder = number % 10\n",
    "    sum = sum + Reminder\n",
    "    number = number //10\n",
    "\n",
    "print(\"Sum of the digits of Given Number = %d\" %sum)"
   ]
  },
  {
   "cell_type": "code",
   "execution_count": 22,
   "metadata": {},
   "outputs": [
    {
     "name": "stdout",
     "output_type": "stream",
     "text": [
      "Enter any decimal number: 5\n",
      "101"
     ]
    }
   ],
   "source": [
    "#16. Decimal to Binary Converter\n",
    "def decimalToBinary(num):\n",
    "    if num > 1:\n",
    "        decimalToBinary(num//2)\n",
    "    print(num % 2, end='')\n",
    "\n",
    "number = int(input(\"Enter any decimal number: \"))\n",
    "decimalToBinary(number)"
   ]
  },
  {
   "cell_type": "code",
   "execution_count": 21,
   "metadata": {},
   "outputs": [
    {
     "name": "stdout",
     "output_type": "stream",
     "text": [
      "\n",
      "* \n",
      "* * \n",
      "* * * \n",
      "* * * * \n",
      "* * * * * \n",
      "* * * * \n",
      "* * * \n",
      "* * \n",
      "* \n"
     ]
    }
   ],
   "source": [
    "#21. Write a Python program to construct the following pattern\n",
    "n=5;\n",
    "for i in range(n):\n",
    "    for j in range(i):\n",
    "        print ('* ', end=\"\")\n",
    "    print('')\n",
    "\n",
    "for i in range(n,0,-1):\n",
    "    for j in range(i):\n",
    "        print('* ', end=\"\")\n",
    "    print('')"
   ]
  },
  {
   "cell_type": "code",
   "execution_count": 20,
   "metadata": {},
   "outputs": [
    {
     "name": "stdout",
     "output_type": "stream",
     "text": [
      "\n",
      "1 \n",
      "2 2 \n",
      "3 3 3 \n",
      "4 4 4 4 \n",
      "5 5 5 5 5 \n",
      "4 4 4 4 \n",
      "3 3 3 \n",
      "2 2 \n",
      "1 \n"
     ]
    }
   ],
   "source": [
    "#22. Write a Python program to construct the following pattern\n",
    "n=5;\n",
    "for i in range(n):\n",
    "    for j in range(i):\n",
    "        print (i, end=\" \")\n",
    "    print('')\n",
    "\n",
    "for i in range(n,0,-1):\n",
    "    for j in range(i):\n",
    "        print(i, end=\" \")\n",
    "    print('')"
   ]
  },
  {
   "cell_type": "code",
   "execution_count": 19,
   "metadata": {},
   "outputs": [
    {
     "name": "stdout",
     "output_type": "stream",
     "text": [
      "\n",
      "1 \n",
      "2 2 \n",
      "3 3 3 \n",
      "4 4 4 4 \n",
      "5 5 5 5 5 \n",
      "6 6 6 6 6 6 \n",
      "7 7 7 7 7 7 7 \n",
      "8 8 8 8 8 8 8 8 \n",
      "9 9 9 9 9 9 9 9 9 \n"
     ]
    }
   ],
   "source": [
    "#23. Write a Python program to construct the following pattern\n",
    "n=10;\n",
    "for i in range(n):\n",
    "    for j in range(i):\n",
    "        print (i, end=\" \")\n",
    "    print('')\n",
    "\n"
   ]
  }
 ],
 "metadata": {
  "kernelspec": {
   "display_name": "Python 3",
   "language": "python",
   "name": "python3"
  },
  "language_info": {
   "codemirror_mode": {
    "name": "ipython",
    "version": 3
   },
   "file_extension": ".py",
   "mimetype": "text/x-python",
   "name": "python",
   "nbconvert_exporter": "python",
   "pygments_lexer": "ipython3",
   "version": "3.7.3"
  }
 },
 "nbformat": 4,
 "nbformat_minor": 2
}
